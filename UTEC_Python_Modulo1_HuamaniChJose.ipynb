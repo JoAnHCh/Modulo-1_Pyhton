{
  "nbformat": 4,
  "nbformat_minor": 0,
  "metadata": {
    "colab": {
      "provenance": [],
      "authorship_tag": "ABX9TyPpo2voGFJQA+kRvkVmv0C8",
      "include_colab_link": true
    },
    "kernelspec": {
      "name": "python3",
      "display_name": "Python 3"
    },
    "language_info": {
      "name": "python"
    }
  },
  "cells": [
    {
      "cell_type": "markdown",
      "metadata": {
        "id": "view-in-github",
        "colab_type": "text"
      },
      "source": [
        "<a href=\"https://colab.research.google.com/github/JoAnHCh/Modulo-1_Pyhton/blob/UTEC_Python/UTEC_Python_Modulo1_HuamaniChJose.ipynb\" target=\"_parent\"><img src=\"https://colab.research.google.com/assets/colab-badge.svg\" alt=\"Open In Colab\"/></a>"
      ]
    },
    {
      "cell_type": "markdown",
      "source": [
        "SESION 1 (15.04.24)"
      ],
      "metadata": {
        "id": "5wlb6l82dny7"
      }
    },
    {
      "cell_type": "markdown",
      "source": [
        "Ejercicio 3: Calcular el Área de un Rectángulo\n",
        "\n",
        "Algoritmo:\n",
        "\n",
        "* Obtener la longitud del rectángulo.\n",
        "* Obtener el ancho del rectángulo.\n",
        "* Calcular el área multiplicando la longitud por el ancho.\n",
        "* Mostrar el área."
      ],
      "metadata": {
        "id": "bzfPDgDCdpPi"
      }
    },
    {
      "cell_type": "markdown",
      "source": [
        "Pseudo-código:"
      ],
      "metadata": {
        "id": "_-BSsVeHfFO7"
      }
    },
    {
      "cell_type": "markdown",
      "source": [
        "1. Inicio\n",
        "2. Solicitar base rectangulo (b)\n",
        "3. Solicitar altura del rectangulo (h)\n",
        "4. Multiplicar longitud por ancho\n",
        "5. Mostrar el area\n",
        "6. Finalizar"
      ],
      "metadata": {
        "id": "ECgn-bh4keF7"
      }
    },
    {
      "cell_type": "markdown",
      "source": [
        "Código:"
      ],
      "metadata": {
        "id": "LvT5nVa5eWkt"
      }
    },
    {
      "cell_type": "code",
      "source": [
        "#Obtener la longitud del rectángulo\n",
        "b = float(input(\"Ingresa la longitud del rectángulo: \"))\n",
        "#Obtener el ancho del rectángulo\n",
        "h = float(input(\"Ingresa el ancho del rectángulo: \"))\n",
        "#Calcular el área\n",
        "area = b * h\n",
        "#Mostrar el área\n",
        "print(f\"El área del rectángulo es:\", area)"
      ],
      "metadata": {
        "id": "enCkiH0leb3x",
        "colab": {
          "base_uri": "https://localhost:8080/"
        },
        "outputId": "5657ae2d-01f9-4515-8316-9da6011f9637"
      },
      "execution_count": 17,
      "outputs": [
        {
          "output_type": "stream",
          "name": "stdout",
          "text": [
            "Ingresa la longitud del rectángulo: 4\n",
            "Ingresa el ancho del rectángulo: 5\n",
            "El área del rectángulo es: 20.0\n"
          ]
        }
      ]
    },
    {
      "cell_type": "markdown",
      "source": [
        "Ejercicio 4: Multiplicar Dos Números\n",
        "\n",
        "Algoritmo:\n",
        "\n",
        "* Obtener dos números del usuario.\n",
        "* Multiplicar los dos números.\n",
        "* Mostrar el resultado de la multiplicación."
      ],
      "metadata": {
        "id": "hRsIJKDHedPg"
      }
    },
    {
      "cell_type": "markdown",
      "source": [
        "Pseudo-código:"
      ],
      "metadata": {
        "id": "DjEbt99HfQ1E"
      }
    },
    {
      "cell_type": "markdown",
      "source": [
        "1. Inciar\n",
        "2. Solicitar el primer numero (numero1)\n",
        "3. Solicitar el segundo numero (numero2)\n",
        "4. Multiplicar numero1 * numero2\n",
        "5. Mostrar el resultado de la multiplicación\n",
        "6. Finalizar"
      ],
      "metadata": {
        "id": "ROKAKiIxmYJj"
      }
    },
    {
      "cell_type": "markdown",
      "source": [
        "Código:"
      ],
      "metadata": {
        "id": "DPDkw49HexGf"
      }
    },
    {
      "cell_type": "code",
      "source": [
        "# Obtener el primer número del usuario\n",
        "numero1 = float(input(\"Ingresa el primer número: \"))\n",
        "# Obtener el segundo número del usuario\n",
        "numero2 = float(input(\"Ingresa el segundo número: \"))\n",
        "# Multiplicar los dos números\n",
        "resultado = numero1 * numero2\n",
        "# Mostrar el resultado de la multiplicación\n",
        "print(\"El resultado de la multiplicación es:\", resultado)"
      ],
      "metadata": {
        "id": "dXPrX1AYel4a",
        "colab": {
          "base_uri": "https://localhost:8080/"
        },
        "outputId": "c3a09b2f-93b7-4017-d544-fec44fec7baa"
      },
      "execution_count": 18,
      "outputs": [
        {
          "output_type": "stream",
          "name": "stdout",
          "text": [
            "Ingresa el primer número: 3\n",
            "Ingresa el segundo número: 2\n",
            "El resultado de la multiplicación es: 6.0\n"
          ]
        }
      ]
    },
    {
      "cell_type": "markdown",
      "source": [
        "SESION 2 (17.04.24)"
      ],
      "metadata": {
        "id": "go31uuL2e3s2"
      }
    },
    {
      "cell_type": "markdown",
      "source": [
        "El Zen de Python"
      ],
      "metadata": {
        "id": "rIh8GvWwgyFb"
      }
    },
    {
      "cell_type": "code",
      "source": [
        "import this"
      ],
      "metadata": {
        "colab": {
          "base_uri": "https://localhost:8080/"
        },
        "id": "R9GKXspLgucs",
        "outputId": "f6592c5c-1c1c-4406-976e-780d13326a7a"
      },
      "execution_count": null,
      "outputs": [
        {
          "output_type": "stream",
          "name": "stdout",
          "text": [
            "The Zen of Python, by Tim Peters\n",
            "\n",
            "Beautiful is better than ugly.\n",
            "Explicit is better than implicit.\n",
            "Simple is better than complex.\n",
            "Complex is better than complicated.\n",
            "Flat is better than nested.\n",
            "Sparse is better than dense.\n",
            "Readability counts.\n",
            "Special cases aren't special enough to break the rules.\n",
            "Although practicality beats purity.\n",
            "Errors should never pass silently.\n",
            "Unless explicitly silenced.\n",
            "In the face of ambiguity, refuse the temptation to guess.\n",
            "There should be one-- and preferably only one --obvious way to do it.\n",
            "Although that way may not be obvious at first unless you're Dutch.\n",
            "Now is better than never.\n",
            "Although never is often better than *right* now.\n",
            "If the implementation is hard to explain, it's a bad idea.\n",
            "If the implementation is easy to explain, it may be a good idea.\n",
            "Namespaces are one honking great idea -- let's do more of those!\n"
          ]
        }
      ]
    },
    {
      "cell_type": "markdown",
      "source": [
        "SESION 3 (22.04.24)"
      ],
      "metadata": {
        "id": "oZvJc1C1g-lG"
      }
    },
    {
      "cell_type": "markdown",
      "source": [
        "Ejercicio 12: Calculadora de Interés Compuesto\n",
        "\n",
        "Algoritmo:\n",
        "\n",
        "* Preguntar al usuario el monto inicial de la inversión.\n",
        "* Preguntar la tasa de interés anual (en porcentaje).\n",
        "* Preguntar el número de años que la inversión será mantenida.\n",
        "* Calcular el monto final usando la fórmula de interés compuesto.\n",
        "* Mostrar el monto final después de los años especificados."
      ],
      "metadata": {
        "id": "RGYdYgsDhoyr"
      }
    },
    {
      "cell_type": "markdown",
      "source": [
        "Pseudo-código:"
      ],
      "metadata": {
        "id": "ZjqEClOjhzpY"
      }
    },
    {
      "cell_type": "markdown",
      "source": [
        "1. iniciar\n",
        "2. Preguntar inversion inicial ($)\n",
        "3. Preguntar tasa interes (%)\n",
        "4. Preguntar tiempo inversión (años)\n",
        "5. Convertir tasa interes a decimal\n",
        "6. Calcular monto final\n",
        "7. Imprimir monto final"
      ],
      "metadata": {
        "id": "-g_HR0yi6Ki2"
      }
    },
    {
      "cell_type": "markdown",
      "source": [
        "Código:"
      ],
      "metadata": {
        "id": "ozvfHdhXh2qg"
      }
    },
    {
      "cell_type": "code",
      "source": [
        "#Pregunta al usuario el monto inicial de la inversión\n",
        "monto_inicial = float(input(\"Ingresa el monto inicial de la inversión: \"))\n",
        "#Pregunta la tasa de interés anual (en porcentaje)\n",
        "tasa_interes = float(input(\"Ingresa la tasa de interés anual (%): \"))\n",
        "#Pregunta el número de años que la inversión será mantenida\n",
        "tiempo_inversion = int(input(\"Ingresa el número de años de la inversión: \"))\n",
        "#Calcula el monto final usando la fórmula de interés compuesto\n",
        "tasa_decimal = tasa_interes / 100\n",
        "monto_final = monto_inicial * (1 + tasa_decimal) ** tiempo_inversion\n",
        "#Muestra el monto final después de los años especificados\n",
        "print(f\"El monto final después de {tiempo_inversion} años es: ${monto_final:.2f}\")"
      ],
      "metadata": {
        "id": "kmo1fX8Ahy11",
        "colab": {
          "base_uri": "https://localhost:8080/"
        },
        "outputId": "72d789cc-d506-49eb-d283-d52bcae45327"
      },
      "execution_count": 30,
      "outputs": [
        {
          "output_type": "stream",
          "name": "stdout",
          "text": [
            "Ingresa el monto inicial de la inversión: 10000\n",
            "Ingresa la tasa de interés anual (%): 2\n",
            "Ingresa el número de años de la inversión: 4\n",
            "El monto final después de 4 años es: $10824.32\n"
          ]
        }
      ]
    },
    {
      "cell_type": "markdown",
      "source": [
        "Ejercicio 13: Calculadora de Calorías\n",
        "\n",
        "Algoritmo:\n",
        "\n",
        "* Preguntar al usuario su peso en kilogramos.\n",
        "* Preguntar la duración de la actividad física en minutos.\n",
        "* Asignar un valor fijo de calorías quemadas por minuto según un promedio (ej.8 calorías/minuto).\n",
        "* Calcular el total de calorías quemadas.\n",
        "* Mostrar las calorías totales quemadas."
      ],
      "metadata": {
        "id": "h7kTS1c6h6oB"
      }
    },
    {
      "cell_type": "code",
      "source": [
        "# Mostrar las calorías totales quemadas\n",
        "peso_kg = float(input(\"¿Cuántos kilogramos pesas?: \"))\n",
        "duracion_minutos = int(input(\"¿Cuántos minutos duró la actividad física?: \"))\n",
        "calorias_por_minuto = 8\n",
        "calorias_totales = calorias_por_minuto * duracion_minutos\n",
        "print(f\"Calorías totales quemadas: {calorias_totales} calorías\")"
      ],
      "metadata": {
        "id": "HrRKOVyxiOeI",
        "colab": {
          "base_uri": "https://localhost:8080/"
        },
        "outputId": "6631490b-c6f2-411e-ae7d-97e52103a770"
      },
      "execution_count": 29,
      "outputs": [
        {
          "output_type": "stream",
          "name": "stdout",
          "text": [
            "¿Cuántos kilogramos pesas?: 75\n",
            "¿Cuántos minutos duró la actividad física?: 20\n",
            "Calorías totales quemadas: 160 calorías\n"
          ]
        }
      ]
    },
    {
      "cell_type": "markdown",
      "source": [
        "SESION 4 (24.04.24)"
      ],
      "metadata": {
        "id": "-KMDLfMsiQSd"
      }
    },
    {
      "cell_type": "markdown",
      "source": [
        "Ejercicio 2:\n",
        "\n",
        "Elija un color para un extraterrestre como lo hizo en el Ejercicio anterior y escriba una cadena if-else.\n",
        "\n",
        "Si el alienígena es verde, imprime un mensaje de que el jugador obtuvo 5 puntos. Si el alienígena es amarillo, imprime un mensaje de que el jugador obtuvo 10 puntos. Si el alienígena es rojo, imprime un mensaje de que el jugador obtuvo 15 puntos."
      ],
      "metadata": {
        "id": "jdwoOU61iiC2"
      }
    },
    {
      "cell_type": "code",
      "source": [
        "alien_color = input(\"¿De qué color es el alienígena? (verde, amarillo o rojo): \")\n",
        "if alien_color == 'verde':\n",
        "    print(\"¡Obtuviste 5 puntos!\")\n",
        "elif alien_color == 'amarillo':\n",
        "    print(\"¡Obtuviste 10 puntos!\")\n",
        "elif alien_color == 'rojo':\n",
        "    print(\"¡Obtuviste 15 puntos!\")\n",
        "else:\n",
        "    print(\"Color desconocido. No se asignan puntos.\")"
      ],
      "metadata": {
        "id": "RgfCYfRqj3zl",
        "colab": {
          "base_uri": "https://localhost:8080/"
        },
        "outputId": "d8b60a8b-cc18-41e6-ed6f-d07e3575e062"
      },
      "execution_count": 24,
      "outputs": [
        {
          "output_type": "stream",
          "name": "stdout",
          "text": [
            "¿De qué color es el alienígena? (verde, amarillo o rojo): verde\n",
            "¡Obtuviste 5 puntos!\n"
          ]
        }
      ]
    },
    {
      "cell_type": "markdown",
      "source": [
        "Ejercicio 3:\n",
        "\n",
        "Pregunte al usuario su edad, si esta es mayor igual a 18 años, imprima un mensaje que indique que puede votar, si la presona es menor que 18 años, imprima un mensaje de que aun no cumple mayoría de edad, finalmente si la persona supera los 65 años, imprima un mensaje de que supera el umbral de edad para votar.\n",
        "\n",
        "Extra: A las personas que sean aptas para votar preguntele su candidato y guadelo en una lista la cual se imprimirá el finalizar el programa."
      ],
      "metadata": {
        "id": "42QcfRxVkJZm"
      }
    },
    {
      "cell_type": "code",
      "source": [
        "edad = int(input(\"¿Cuántos años tienes?: \"))\n",
        "if edad >= 18:\n",
        "    print(\"Eres apto para votar. ¡Participa en las elecciones!\")\n",
        "    candidato = input(\"¿Cuál es tu candidato preferido?: \")\n",
        "    lista_candidatos = [candidato]\n",
        "\n",
        "    while True:\n",
        "        otro_candidato = input(\"¿Hay otro candidato? (si/no): \")\n",
        "        if otro_candidato.lower() == 'si':\n",
        "            candidato = input(\"¿Cuál es el siguiente candidato?: \")\n",
        "            lista_candidatos.append(candidato)\n",
        "        else:\n",
        "            break\n",
        "\n",
        "    print(\"Lista de candidatos:\")\n",
        "    for postulante in lista_candidatos:\n",
        "        print(f\"- {postulante}\")\n",
        "else:\n",
        "    if edad < 18:\n",
        "        print(\"Aún no cumples la mayoría de edad. No puedes votar.\")\n",
        "    else:\n",
        "        print(\"Superas el umbral de edad para votar.\")"
      ],
      "metadata": {
        "id": "0L7wMgBrkQ9q",
        "colab": {
          "base_uri": "https://localhost:8080/"
        },
        "outputId": "449771e0-fc88-42d5-cfe6-7309cd57ab7b"
      },
      "execution_count": 27,
      "outputs": [
        {
          "output_type": "stream",
          "name": "stdout",
          "text": [
            "¿Cuántos años tienes?: 18\n",
            "Eres apto para votar. ¡Participa en las elecciones!\n",
            "¿Cuál es tu candidato preferido?: pepe\n",
            "¿Hay otro candidato? (sí/no): si\n",
            "¿Cuál es el siguiente candidato?: pedro\n",
            "¿Hay otro candidato? (sí/no): no\n",
            "Lista de candidatos:\n",
            "- pepe\n",
            "- pedro\n"
          ]
        }
      ]
    },
    {
      "cell_type": "markdown",
      "source": [
        "SESION 5 (29.04.24)"
      ],
      "metadata": {
        "id": "4-q0ypWwkS5Y"
      }
    },
    {
      "cell_type": "markdown",
      "source": [
        "Ejercicio 1:\n",
        "\n",
        "Piensa en al menos tres tipos de tu pizza favorita. Almacene estos nombres de pizza en una lista y luego use un ciclo for para imprimir el nombre de cada pizza.\n",
        "\n",
        "Modifique su ciclo for para imprimir una oración usando el nombre de la pizza en lugar de imprimir solo el nombre de la pizza. Para cada pizza, debe tener una línea de salida que contenga una declaración simple como Me gusta la pizza de pepperoni. Agregue una línea al final de su programa, fuera del bucle for, que indique cuánto le gusta la pizza. El resultado debe constar de tres o más líneas sobre los tipos de pizza que te gustan y luego una oración adicional, como ¡Me encanta la pizza!"
      ],
      "metadata": {
        "id": "_KmOhBBDk51Z"
      }
    },
    {
      "cell_type": "code",
      "source": [
        "#Crear una lista para los nombres de los tipos de pizza\n",
        "tipos_de_pizza = []\n",
        "for i in range(3):\n",
        "    tipo_pizza = input(f\"Ingresa el nombre del tipo de pizza {i + 1}: \")\n",
        "    tipos_de_pizza.append(tipo_pizza)\n",
        "print(\"Cualquiera de estos tipos de pizza sería deliciosa porque todas tienen una base de masa y están cubiertas de ingredientes sabrosos:\")\n",
        "for pizza in tipos_de_pizza:\n",
        "    print(f\"- {pizza.capitalize()}\")\n",
        "print(\"¡Me encantan las pizzas!\")"
      ],
      "metadata": {
        "id": "otzHlIsUkbq-",
        "colab": {
          "base_uri": "https://localhost:8080/"
        },
        "outputId": "38d5a06b-039b-4ca8-fce4-7243e875a9fe"
      },
      "execution_count": 22,
      "outputs": [
        {
          "output_type": "stream",
          "name": "stdout",
          "text": [
            "Ingresa el nombre del tipo de pizza 1: americana\n",
            "Ingresa el nombre del tipo de pizza 2: hawaiana\n",
            "Ingresa el nombre del tipo de pizza 3: italiana\n",
            "Cualquiera de estos tipos de pizza sería deliciosa porque todas tienen una base de masa y están cubiertas de ingredientes sabrosos:\n",
            "- Americana\n",
            "- Hawaiana\n",
            "- Italiana\n",
            "¡Me encantan las pizzas!\n"
          ]
        }
      ]
    },
    {
      "cell_type": "markdown",
      "source": [
        "Ejercicio 2:\n",
        "\n",
        "Piensa en al menos tres animales diferentes que tengan una característica común. Guarde los nombres de estos animales en una lista y luego use un ciclo for para imprimir el nombre de cada animal.\n",
        "\n",
        "Modifique su programa para imprimir una declaración sobre cada animal, como Un perro sería una gran mascota. Agregue una línea al final de su programa indicando lo que estos animales tienen en común. Podría escribir una oración como ¡Cualquiera de estos animales sería una gran mascota!"
      ],
      "metadata": {
        "id": "dGqIpPZqlMbf"
      }
    },
    {
      "cell_type": "code",
      "source": [
        "#Crear una lista con los nombres de los animales\n",
        "animales = []\n",
        "for i in range(3):\n",
        "    nombre_animal = input(f\"Ingresa el nombre del animal {i + 1}: \")\n",
        "    animales.append(nombre_animal)\n",
        "print(f\"Cualquiera de estos animales sería una gran mascota porque todos son animales domésticos:\")\n",
        "for animal in animales:\n",
        "    print(f\"- {animal.capitalize()}\")"
      ],
      "metadata": {
        "id": "brMUT1VGlQWx",
        "colab": {
          "base_uri": "https://localhost:8080/"
        },
        "outputId": "e6475545-7c7d-4109-883e-ffd1738f526b"
      },
      "execution_count": 21,
      "outputs": [
        {
          "output_type": "stream",
          "name": "stdout",
          "text": [
            "Ingresa el nombre del animal 1: perro\n",
            "Ingresa el nombre del animal 2: gato\n",
            "Ingresa el nombre del animal 3: loro\n",
            "Cualquiera de estos animales sería una gran mascota porque todos son animales domésticos:\n",
            "- Perro\n",
            "- Gato\n",
            "- Loro\n"
          ]
        }
      ]
    },
    {
      "cell_type": "markdown",
      "source": [
        "SESION 6 (02.05.240)\n"
      ],
      "metadata": {
        "id": "qdxrdBRLlT-u"
      }
    },
    {
      "cell_type": "markdown",
      "source": [
        "Ejercicio 1:\n",
        "\n",
        "Escriba un ciclo que solicite al usuario que ingrese una serie de ingredientes para la pizza hasta que ingrese un valor de 'salir'. A medida que ingresen cada ingrediente, imprima un mensaje que diga que agregará ese ingrediente a su pizza."
      ],
      "metadata": {
        "id": "hAJW0xHfokye"
      }
    },
    {
      "cell_type": "code",
      "source": [
        "#Lista de ingredientes para pizza\n",
        "ingredientes_pizza = []\n",
        "#Solicitar ingredientes\n",
        "while True:\n",
        "    ingrediente = input(\"Ingresa un ingrediente para la pizza (o escribe 'salir' para finalizar): \")\n",
        "    if ingrediente.lower() == \"salir\":\n",
        "      break\n",
        "    else:\n",
        "      ingredientes_pizza.append(ingrediente)\n",
        "      print(f\"Agregando {ingrediente} a tu pizza...\")\n",
        "#Mostrar los ingredientes de la pizza\n",
        "print(\"\\nIngredientes de la pizza:\")\n",
        "for ingrediente in ingredientes_pizza:\n",
        "    print(ingrediente)"
      ],
      "metadata": {
        "id": "PdFgN7DVonCv",
        "colab": {
          "base_uri": "https://localhost:8080/"
        },
        "outputId": "85a55c8b-6f82-4e2d-9f33-7af07c8c7395"
      },
      "execution_count": 19,
      "outputs": [
        {
          "output_type": "stream",
          "name": "stdout",
          "text": [
            "Ingresa un ingrediente para la pizza (o escribe 'salir' para finalizar): queso\n",
            "Agregando queso a tu pizza...\n",
            "Ingresa un ingrediente para la pizza (o escribe 'salir' para finalizar): champiñon\n",
            "Agregando champiñon a tu pizza...\n",
            "Ingresa un ingrediente para la pizza (o escribe 'salir' para finalizar): salchichas\n",
            "Agregando salchichas a tu pizza...\n",
            "Ingresa un ingrediente para la pizza (o escribe 'salir' para finalizar): salir\n",
            "\n",
            "Ingredientes de la pizza:\n",
            "queso\n",
            "champiñon\n",
            "salchichas\n"
          ]
        }
      ]
    },
    {
      "cell_type": "markdown",
      "source": [
        "Ejercicio 2:\n",
        "\n",
        "Un cine cobra diferentes precios de boletos dependiendo de la edad de una persona. Si una persona es menor de 3 años, la entrada es gratuita; si son entre 3 y 12, el boleto cuesta s/. 10; y si son mayores de 12 años, el boleto cuesta s/. 15. Escriba un ciclo en el que pregunte a los usuarios su edad y luego dígales el costo de su boleto de cine."
      ],
      "metadata": {
        "id": "X0U-BcCMondC"
      }
    },
    {
      "cell_type": "code",
      "source": [
        "while True:\n",
        "    #Solicitar la edad al usuario\n",
        "    entrada = input(\"Ingresa tu edad (o escribe 'salir' para finalizar): \")\n",
        "    if entrada.lower() == \"salir\":\n",
        "      break\n",
        "    edad = int(entrada)\n",
        "    #Calcular el costo del boleto según la edad\n",
        "    if edad < 3:\n",
        "      print(\"La entrada es gratuita para menores de 3 años.\")\n",
        "    elif 3 <= edad <= 12:\n",
        "      print(\"El costo del boleto es s/. 10.\")\n",
        "    else:\n",
        "      print(\"El costo del boleto es s/. 15.\")"
      ],
      "metadata": {
        "id": "yfg1loFEor64",
        "colab": {
          "base_uri": "https://localhost:8080/"
        },
        "outputId": "5385a1ad-5faa-46fa-9a17-1b9550b8ddd5"
      },
      "execution_count": 20,
      "outputs": [
        {
          "name": "stdout",
          "output_type": "stream",
          "text": [
            "Ingresa tu edad (o escribe 'salir' para finalizar): 12\n",
            "El costo del boleto es s/. 10.\n",
            "Ingresa tu edad (o escribe 'salir' para finalizar): 24\n",
            "El costo del boleto es s/. 15.\n",
            "Ingresa tu edad (o escribe 'salir' para finalizar): 8\n",
            "El costo del boleto es s/. 10.\n",
            "Ingresa tu edad (o escribe 'salir' para finalizar): salir\n"
          ]
        }
      ]
    },
    {
      "cell_type": "markdown",
      "source": [
        "SESION 7 (06.05.24)"
      ],
      "metadata": {
        "id": "RiFztB57osSC"
      }
    },
    {
      "cell_type": "markdown",
      "source": [
        "Ejercicio:\n",
        "\n",
        "Define una función que tenga dos inputs. El primero define hasta que valor se evaluará el conjunto de números (M) (Por ejemplo del 0 al 100) y el segundo será el valor del multiplo que se evaluará (n). La función debe printear todos los valores múltiplos de n menores que M."
      ],
      "metadata": {
        "id": "Le2jpVoLp5QI"
      }
    },
    {
      "cell_type": "code",
      "source": [
        "def multiplos(n, M):\n",
        "    \"\"\"\n",
        "    Imprime todos los valores múltiplos de n menores que M.\n",
        "    Variables: n (int): Valor del múltiplo y M (int): Valor máximo hasta el cual se evaluarán los números.\n",
        "    \"\"\"\n",
        "    for i in range(n, M, n):\n",
        "        print(i)\n",
        "\n",
        "n = int(input(\"Ingresa el valor del múltiplo (n): \"))\n",
        "M = int(input(\"Ingresa el valor máximo (M): \"))\n",
        "multiplos(n, M)"
      ],
      "metadata": {
        "id": "EuX5t0Vnpxf1",
        "colab": {
          "base_uri": "https://localhost:8080/"
        },
        "outputId": "991fba98-e3e3-4677-db03-7f1d1e4b71d9"
      },
      "execution_count": 15,
      "outputs": [
        {
          "output_type": "stream",
          "name": "stdout",
          "text": [
            "Ingresa el valor del múltiplo (n): 2\n",
            "Ingresa el valor máximo (M): 100\n",
            "2\n",
            "4\n",
            "6\n",
            "8\n",
            "10\n",
            "12\n",
            "14\n",
            "16\n",
            "18\n",
            "20\n",
            "22\n",
            "24\n",
            "26\n",
            "28\n",
            "30\n",
            "32\n",
            "34\n",
            "36\n",
            "38\n",
            "40\n",
            "42\n",
            "44\n",
            "46\n",
            "48\n",
            "50\n",
            "52\n",
            "54\n",
            "56\n",
            "58\n",
            "60\n",
            "62\n",
            "64\n",
            "66\n",
            "68\n",
            "70\n",
            "72\n",
            "74\n",
            "76\n",
            "78\n",
            "80\n",
            "82\n",
            "84\n",
            "86\n",
            "88\n",
            "90\n",
            "92\n",
            "94\n",
            "96\n",
            "98\n"
          ]
        }
      ]
    },
    {
      "cell_type": "markdown",
      "source": [
        "SESION 7 (08.05.24)"
      ],
      "metadata": {
        "id": "qArSHHkzqEO6"
      }
    },
    {
      "cell_type": "markdown",
      "source": [
        "Tarea:\n",
        "\n",
        "Desarrolle una función que almacene en un diccionario el nombre de un estudiante y sus notas en los cursos de programación, estadística y física. El resultado de la función deberá ser el retorno de un diccionario con dichos valores. Ahora prepare la función para que pueda almacenar la edad del estudiante y su universidad, la función no debe esperar necesariamente estos valores pero si debe almacenarlos si es que se declaran."
      ],
      "metadata": {
        "id": "mUjg3XXfq_OS"
      }
    },
    {
      "cell_type": "code",
      "source": [
        "def crear_diccionario_estudiante():\n",
        "    \"\"\"\n",
        "    Crea un diccionario con la información del estudiante ingresada por el usuario.\n",
        "    Resultado:\n",
        "        dict: Diccionario con la información del estudiante.\n",
        "    \"\"\"\n",
        "    # Agregar el diccionario del estudiante a la lista\n",
        "    estudiantes = []\n",
        "\n",
        "    while True:\n",
        "        nombre = input(\"Ingresa el nombre del estudiante (o escribe 'salir' para finalizar): \")\n",
        "        if nombre.lower() == \"salir\":\n",
        "            break\n",
        "        edad = int(input(\"Ingresa la edad del estudiante: \"))\n",
        "        programacion = float(input(\"Ingresa la nota en el curso de programación: \"))\n",
        "        estadistica = float(input(\"Ingresa la nota en el curso de estadística: \"))\n",
        "        fisica = float(input(\"Ingresa la nota en el curso de física: \"))\n",
        "\n",
        "        estudiante = {\n",
        "            \"nombre\": nombre,\n",
        "            \"edad\": edad,\n",
        "            \"programacion\": programacion,\n",
        "            \"estadistica\": estadistica,\n",
        "            \"fisica\": fisica\n",
        "        }\n",
        "        # Agregar el diccionario del estudiante a la lista\n",
        "        estudiantes.append(estudiante)\n",
        "    return estudiantes\n",
        "\n",
        "lista_estudiantes = crear_diccionario_estudiante()\n",
        "for estudiante in lista_estudiantes:\n",
        "    print(estudiante)"
      ],
      "metadata": {
        "colab": {
          "base_uri": "https://localhost:8080/"
        },
        "id": "KHJ4wfOYrBnI",
        "outputId": "74a43e24-235a-4966-8c69-f9f64e15847a"
      },
      "execution_count": 13,
      "outputs": [
        {
          "output_type": "stream",
          "name": "stdout",
          "text": [
            "Ingresa el nombre del estudiante (o escribe 'salir' para finalizar): Jorge\n",
            "Ingresa la edad del estudiante: 19\n",
            "Ingresa la nota en el curso de programación: 12\n",
            "Ingresa la nota en el curso de estadística: 13\n",
            "Ingresa la nota en el curso de física: 14\n",
            "Ingresa el nombre del estudiante (o escribe 'salir' para finalizar): Milagros\n",
            "Ingresa la edad del estudiante: 20\n",
            "Ingresa la nota en el curso de programación: 15\n",
            "Ingresa la nota en el curso de estadística: 16\n",
            "Ingresa la nota en el curso de física: 14\n",
            "Ingresa el nombre del estudiante (o escribe 'salir' para finalizar): Salir\n",
            "{'nombre': 'Jorge', 'edad': 19, 'programacion': 12.0, 'estadistica': 13.0, 'fisica': 14.0}\n",
            "{'nombre': 'Milagros', 'edad': 20, 'programacion': 15.0, 'estadistica': 16.0, 'fisica': 14.0}\n"
          ]
        }
      ]
    }
  ]
}